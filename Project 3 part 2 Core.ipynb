{
 "cells": [
  {
   "cell_type": "markdown",
   "id": "f9aa325c-3602-48a8-a4b0-6d288fad0e14",
   "metadata": {},
   "source": [
    "## Imports"
   ]
  },
  {
   "cell_type": "code",
   "execution_count": 1,
   "id": "ec75c7df-a766-443b-b398-cd239b20f1d7",
   "metadata": {},
   "outputs": [
    {
     "data": {
      "text/plain": [
       "['tmdb_api_results_2000.json',\n",
       " 'final_tmdb_data_2000.csv.gz',\n",
       " 'title_basics.csv.gz',\n",
       " '.ipynb_checkpoints',\n",
       " 'title_akas.csv.gz',\n",
       " 'title_ratings.csv.gz']"
      ]
     },
     "execution_count": 1,
     "metadata": {},
     "output_type": "execute_result"
    }
   ],
   "source": [
    "from tqdm.notebook import tqdm_notebook\n",
    "import pandas as pd\n",
    "import os, time,json\n",
    "import tmdbsimple as tmdb \n",
    "import os, json, math, time\n",
    "import json\n",
    "with open('/Users/timothylingeveldt/.secret/tmdb_api.json', 'r') as f:\n",
    "    login = json.load(f)\n",
    "## Display the keys of the loaded dict\n",
    "login.keys()\n",
    "FOLDER = \"Data/\"\n",
    "os.makedirs(FOLDER, exist_ok=True)\n",
    "os.listdir(FOLDER)"
   ]
  },
  {
   "cell_type": "code",
   "execution_count": 2,
   "id": "18d693f3-5b52-4a95-9745-e19f25051857",
   "metadata": {},
   "outputs": [],
   "source": [
    "import tmdbsimple as tmdb\n",
    "tmdb.API_KEY =  login['api-key']"
   ]
  },
  {
   "cell_type": "markdown",
   "id": "4cb5d1f3-f6df-4f91-8ff4-adc5ab9cc5e8",
   "metadata": {},
   "source": [
    "## Functions"
   ]
  },
  {
   "cell_type": "code",
   "execution_count": 3,
   "id": "fe233e2f-e9f7-434e-b5ca-c19d2d63262d",
   "metadata": {},
   "outputs": [],
   "source": [
    "def get_movie_with_rating(movie_id):\n",
    "    #get the movie object for the current id\n",
    "    movie = tmdb.Movies(movie_id)\n",
    "\n",
    "    #save the .info .release dictionaries\n",
    "    info = movie.info()\n",
    "\n",
    "    releases = movie.releases()\n",
    "    #Loop through countries in releases\n",
    "    for c in releases['countries']:\n",
    "        #if the country abbreviation ==US\n",
    "        if c['iso_3166_1' ] == 'US':\n",
    "            ##save a \"certification\" key in the info with the certification\n",
    "            info['certification'] = c['certification']\n",
    "        \n",
    "    return info"
   ]
  },
  {
   "cell_type": "code",
   "execution_count": 4,
   "id": "be4c3b96-b49d-444a-8657-c33b0302def4",
   "metadata": {},
   "outputs": [],
   "source": [
    "def write_json(new_data, filename): \n",
    "    \"\"\"Appends a list of records (new_data) to a json file (filename). \n",
    "    Adapted from: https://www.geeksforgeeks.org/append-to-json-file-using-python/\"\"\"  \n",
    "    \n",
    "    with open(filename,'r+') as file:\n",
    "        # First we load existing data into a dict.\n",
    "        file_data = json.load(file)\n",
    "        ## Choose extend or append\n",
    "        if (type(new_data) == list) & (type(file_data) == list):\n",
    "            file_data.extend(new_data)\n",
    "        else:\n",
    "             file_data.append(new_data)\n",
    "        # Sets file's current position at offset.\n",
    "        file.seek(0)\n",
    "        # convert back to json.\n",
    "        json.dump(file_data, file)"
   ]
  },
  {
   "cell_type": "code",
   "execution_count": 26,
   "id": "fd468827-c959-4379-8234-cb40e1329a83",
   "metadata": {},
   "outputs": [],
   "source": [
    "### Test Functions"
   ]
  },
  {
   "cell_type": "code",
   "execution_count": 6,
   "id": "e5c1ee1a-dcc8-42e9-8a79-c4224089f113",
   "metadata": {},
   "outputs": [
    {
     "data": {
      "text/plain": [
       "{'adult': False,\n",
       " 'backdrop_path': '/9BBTo63ANSmhC4e6r62OJFuK2GL.jpg',\n",
       " 'belongs_to_collection': {'id': 86311,\n",
       "  'name': 'The Avengers Collection',\n",
       "  'poster_path': '/yFSIUVTCvgYrpalUktulvk3Gi5Y.jpg',\n",
       "  'backdrop_path': '/zuW6fOiusv4X9nnW3paHGfXcSll.jpg'},\n",
       " 'budget': 220000000,\n",
       " 'genres': [{'id': 878, 'name': 'Science Fiction'},\n",
       "  {'id': 28, 'name': 'Action'},\n",
       "  {'id': 12, 'name': 'Adventure'}],\n",
       " 'homepage': 'https://www.marvel.com/movies/the-avengers',\n",
       " 'id': 24428,\n",
       " 'imdb_id': 'tt0848228',\n",
       " 'original_language': 'en',\n",
       " 'original_title': 'The Avengers',\n",
       " 'overview': 'When an unexpected enemy emerges and threatens global safety and security, Nick Fury, director of the international peacekeeping agency known as S.H.I.E.L.D., finds himself in need of a team to pull the world back from the brink of disaster. Spanning the globe, a daring recruitment effort begins!',\n",
       " 'popularity': 124.297,\n",
       " 'poster_path': '/RYMX2wcKCBAr24UyPD7xwmjaTn.jpg',\n",
       " 'production_companies': [{'id': 420,\n",
       "   'logo_path': '/hUzeosd33nzE5MCNsZxCGEKTXaQ.png',\n",
       "   'name': 'Marvel Studios',\n",
       "   'origin_country': 'US'}],\n",
       " 'production_countries': [{'iso_3166_1': 'US',\n",
       "   'name': 'United States of America'}],\n",
       " 'release_date': '2012-04-25',\n",
       " 'revenue': 1518815515,\n",
       " 'runtime': 143,\n",
       " 'spoken_languages': [{'english_name': 'English',\n",
       "   'iso_639_1': 'en',\n",
       "   'name': 'English'},\n",
       "  {'english_name': 'Hindi', 'iso_639_1': 'hi', 'name': 'हिन्दी'},\n",
       "  {'english_name': 'Russian', 'iso_639_1': 'ru', 'name': 'Pусский'}],\n",
       " 'status': 'Released',\n",
       " 'tagline': 'Some assembly required.',\n",
       " 'title': 'The Avengers',\n",
       " 'video': False,\n",
       " 'vote_average': 7.71,\n",
       " 'vote_count': 29274,\n",
       " 'certification': 'PG-13'}"
      ]
     },
     "execution_count": 6,
     "metadata": {},
     "output_type": "execute_result"
    }
   ],
   "source": [
    "test1 = get_movie_with_rating(\"tt0848228\") #put your function name here\n",
    "test1"
   ]
  },
  {
   "cell_type": "code",
   "execution_count": 7,
   "id": "b217a2b3-da76-459a-9b09-0c66e701fa9b",
   "metadata": {},
   "outputs": [
    {
     "data": {
      "text/plain": [
       "{'adult': False,\n",
       " 'backdrop_path': '/qom1SZSENdmHFNZBXbtJAU0WTlC.jpg',\n",
       " 'belongs_to_collection': None,\n",
       " 'budget': 29000000,\n",
       " 'genres': [{'id': 10749, 'name': 'Romance'}, {'id': 18, 'name': 'Drama'}],\n",
       " 'homepage': 'http://www.newline.com/properties/notebookthe.html',\n",
       " 'id': 11036,\n",
       " 'imdb_id': 'tt0332280',\n",
       " 'original_language': 'en',\n",
       " 'original_title': 'The Notebook',\n",
       " 'overview': \"An epic love story centered around an older man who reads aloud to a woman with Alzheimer's. From a faded notebook, the old man's words bring to life the story about a couple who is separated by World War II, and is then passionately reunited, seven years later, after they have taken different paths.\",\n",
       " 'popularity': 55.665,\n",
       " 'poster_path': '/rNzQyW4f8B8cQeg7Dgj3n6eT5k9.jpg',\n",
       " 'production_companies': [{'id': 12,\n",
       "   'logo_path': '/mevhneWSqbjU22D1MXNd4H9x0r0.png',\n",
       "   'name': 'New Line Cinema',\n",
       "   'origin_country': 'US'},\n",
       "  {'id': 1565, 'logo_path': None, 'name': 'Avery Pix', 'origin_country': 'US'},\n",
       "  {'id': 2605,\n",
       "   'logo_path': None,\n",
       "   'name': 'Gran Via Productions',\n",
       "   'origin_country': 'US'}],\n",
       " 'production_countries': [{'iso_3166_1': 'US',\n",
       "   'name': 'United States of America'}],\n",
       " 'release_date': '2004-06-25',\n",
       " 'revenue': 115603229,\n",
       " 'runtime': 123,\n",
       " 'spoken_languages': [{'english_name': 'English',\n",
       "   'iso_639_1': 'en',\n",
       "   'name': 'English'}],\n",
       " 'status': 'Released',\n",
       " 'tagline': 'Behind every great love is a great story.',\n",
       " 'title': 'The Notebook',\n",
       " 'video': False,\n",
       " 'vote_average': 7.88,\n",
       " 'vote_count': 10687,\n",
       " 'certification': 'PG-13'}"
      ]
     },
     "execution_count": 7,
     "metadata": {},
     "output_type": "execute_result"
    }
   ],
   "source": [
    "test2 = get_movie_with_rating(\"tt0332280\") #put your function name here\n",
    "test2"
   ]
  },
  {
   "cell_type": "code",
   "execution_count": 8,
   "id": "825e7d77-bb52-463e-a2ab-97d557a177b8",
   "metadata": {},
   "outputs": [],
   "source": [
    "# Load in the dataframe from project part 1 as basics:\n",
    "basics = pd.read_csv(\"Data/title_basics.csv.gz\")"
   ]
  },
  {
   "cell_type": "code",
   "execution_count": 9,
   "id": "41d5a938-a220-4ef8-bdf0-9e69e0962999",
   "metadata": {},
   "outputs": [
    {
     "data": {
      "text/plain": [
       "2019    5890\n",
       "2018    5803\n",
       "2017    5648\n",
       "2016    5255\n",
       "2022    5211\n",
       "2021    5205\n",
       "2015    5059\n",
       "2020    5032\n",
       "2014    4906\n",
       "2013    4727\n",
       "2012    4525\n",
       "2011    4235\n",
       "2010    3873\n",
       "2009    3573\n",
       "2008    2932\n",
       "2007    2586\n",
       "2006    2452\n",
       "2005    2196\n",
       "2004    1914\n",
       "2003    1705\n",
       "2001    1584\n",
       "2002    1580\n",
       "2000    1463\n",
       "Name: startYear, dtype: int64"
      ]
     },
     "execution_count": 9,
     "metadata": {},
     "output_type": "execute_result"
    }
   ],
   "source": [
    "basics['startYear'].value_counts()"
   ]
  },
  {
   "cell_type": "code",
   "execution_count": 19,
   "id": "5f344015-c6aa-457c-bf8d-02be0021ea83",
   "metadata": {},
   "outputs": [],
   "source": [
    "#Each year was run separatly 2000 then 2001\n",
    "YEARS_TO_GET = [2000]"
   ]
  },
  {
   "cell_type": "code",
   "execution_count": 20,
   "id": "850b7dbe-3d9f-4b89-a552-e520a09fc8c6",
   "metadata": {},
   "outputs": [],
   "source": [
    "errors = [ ]"
   ]
  },
  {
   "cell_type": "code",
   "execution_count": 21,
   "id": "4bf6d09d-889c-4454-a9f9-9046d54e338e",
   "metadata": {},
   "outputs": [
    {
     "data": {
      "application/vnd.jupyter.widget-view+json": {
       "model_id": "fd4278157e5f4741b38be32ea48d2243",
       "version_major": 2,
       "version_minor": 0
      },
      "text/plain": [
       "YEARS:   0%|          | 0/1 [00:00<?, ?it/s]"
      ]
     },
     "metadata": {},
     "output_type": "display_data"
    }
   ],
   "source": [
    "# Start of OUTER loop\n",
    "for YEAR in tqdm_notebook(YEARS_TO_GET, desc='YEARS', position=0):\n",
    "    #Defining the JSON file to store results for year\n",
    "    JSON_FILE = f'{FOLDER}tmdb_api_results_{YEAR}.json'\n",
    "    # Check if file exists\n",
    "    file_exists = os.path.isfile(JSON_FILE)\n",
    "    # If it does not exist: create it\n",
    "    if file_exists == False:\n",
    "        with open(JSON_FILE,'w') as f:\n",
    "            json.dump([{'imdb_id':0}],f)\n",
    "\n",
    "#Saving new year as the current df\n",
    "df = basics.loc[ basics['startYear']==YEAR].copy()\n",
    "# saving movie ids to list\n",
    "movie_ids = df['tconst'].copy()\n",
    "# Load existing data from json into a dataframe called \"previous_df\"\n",
    "previous_df = pd.read_json(JSON_FILE)\n",
    "# filter out any ids that are already in the JSON_FILE\n",
    "movie_ids_to_get = movie_ids[~movie_ids.isin(previous_df['imdb_id'])]"
   ]
  },
  {
   "cell_type": "code",
   "execution_count": 22,
   "id": "53ad668c-375d-4df0-a1e5-e7e156c25980",
   "metadata": {},
   "outputs": [
    {
     "data": {
      "application/vnd.jupyter.widget-view+json": {
       "model_id": "7ce6734f429541e28e9a7023d125f128",
       "version_major": 2,
       "version_minor": 0
      },
      "text/plain": [
       "Movies from 2000:   0%|          | 0/1463 [00:00<?, ?it/s]"
      ]
     },
     "metadata": {},
     "output_type": "display_data"
    }
   ],
   "source": [
    "    #Get index and movie id from list\n",
    "    # INNER Loop\n",
    "    for movie_id in tqdm_notebook(movie_ids_to_get,\n",
    "                                  desc=f'Movies from {YEAR}',\n",
    "                                  position=1,\n",
    "                                  leave=True):\n",
    "        try:\n",
    "            # Retrieve then data for the movie id\n",
    "            temp = get_movie_with_rating(movie_id)  \n",
    "            # Append/extend results to existing file using a pre-made function\n",
    "            write_json(temp,JSON_FILE)\n",
    "            # Short 20 ms sleep to prevent overwhelming server\n",
    "            time.sleep(0.02)\n",
    "            \n",
    "        except Exception as e:\n",
    "            errors.append([movie_id, e])\n",
    "    final_year_df = pd.read_json(JSON_FILE)\n",
    "    final_year_df.to_csv(f\"{FOLDER}final_tmdb_data_{YEAR}.csv.gz\", compression=\"gzip\", index=False)"
   ]
  },
  {
   "cell_type": "code",
   "execution_count": 27,
   "id": "62be38f5-fa12-4294-bcfc-40c3f5dce40c",
   "metadata": {},
   "outputs": [
    {
     "name": "stdout",
     "output_type": "stream",
     "text": [
      "- Total errors: 203\n"
     ]
    }
   ],
   "source": [
    "print(f\"- Total errors: {len(errors)}\")"
   ]
  },
  {
   "cell_type": "code",
   "execution_count": null,
   "id": "7a9f3bc8-1c85-4246-b50a-ecaad236e349",
   "metadata": {},
   "outputs": [],
   "source": []
  }
 ],
 "metadata": {
  "kernelspec": {
   "display_name": "Python (dojo-env)",
   "language": "python",
   "name": "dojo-env"
  },
  "language_info": {
   "codemirror_mode": {
    "name": "ipython",
    "version": 3
   },
   "file_extension": ".py",
   "mimetype": "text/x-python",
   "name": "python",
   "nbconvert_exporter": "python",
   "pygments_lexer": "ipython3",
   "version": "3.10.10"
  },
  "widgets": {
   "application/vnd.jupyter.widget-state+json": {
    "state": {
     "0207dee82a1a4a28b73c60c28ecaca88": {
      "model_module": "@jupyter-widgets/base",
      "model_module_version": "2.0.0",
      "model_name": "LayoutModel",
      "state": {}
     },
     "091ae1e6f1fd40439fb0a7264f09de56": {
      "model_module": "@jupyter-widgets/controls",
      "model_module_version": "2.0.0",
      "model_name": "HTMLStyleModel",
      "state": {
       "description_width": "",
       "font_size": null,
       "text_color": null
      }
     },
     "18c9a882f70b41f98690e941735c9488": {
      "model_module": "@jupyter-widgets/controls",
      "model_module_version": "2.0.0",
      "model_name": "HTMLStyleModel",
      "state": {
       "description_width": "",
       "font_size": null,
       "text_color": null
      }
     },
     "1907082d3b6443b48f151f3067e96219": {
      "model_module": "@jupyter-widgets/controls",
      "model_module_version": "2.0.0",
      "model_name": "HTMLStyleModel",
      "state": {
       "description_width": "",
       "font_size": null,
       "text_color": null
      }
     },
     "1e5cf55ae57141d08d0d6f0c684996d5": {
      "model_module": "@jupyter-widgets/base",
      "model_module_version": "2.0.0",
      "model_name": "LayoutModel",
      "state": {}
     },
     "1f84e099a53345d0917ea229a45e5c4f": {
      "model_module": "@jupyter-widgets/controls",
      "model_module_version": "2.0.0",
      "model_name": "HTMLStyleModel",
      "state": {
       "description_width": "",
       "font_size": null,
       "text_color": null
      }
     },
     "228097406e534422982645fc6f1d9e23": {
      "model_module": "@jupyter-widgets/base",
      "model_module_version": "2.0.0",
      "model_name": "LayoutModel",
      "state": {}
     },
     "257ac983c1074e9db30237f9f45dfa3d": {
      "model_module": "@jupyter-widgets/controls",
      "model_module_version": "2.0.0",
      "model_name": "ProgressStyleModel",
      "state": {
       "description_width": ""
      }
     },
     "328ad835bec4486a8acc38ad15452916": {
      "model_module": "@jupyter-widgets/controls",
      "model_module_version": "2.0.0",
      "model_name": "HTMLStyleModel",
      "state": {
       "description_width": "",
       "font_size": null,
       "text_color": null
      }
     },
     "33a772d506264a829717bde97cf91480": {
      "model_module": "@jupyter-widgets/controls",
      "model_module_version": "2.0.0",
      "model_name": "HTMLModel",
      "state": {
       "layout": "IPY_MODEL_d59cf6274b2043f9b3651a4233871af9",
       "style": "IPY_MODEL_e402e515585e4771a636d5e07d505bdf",
       "value": " 1/1 [00:00&lt;00:00, 60.92it/s]"
      }
     },
     "348191ec683545329a4313f7a77c6146": {
      "model_module": "@jupyter-widgets/base",
      "model_module_version": "2.0.0",
      "model_name": "LayoutModel",
      "state": {}
     },
     "3e4a9af8b0664a398bc2747e0956e383": {
      "model_module": "@jupyter-widgets/base",
      "model_module_version": "2.0.0",
      "model_name": "LayoutModel",
      "state": {}
     },
     "40b8a546d55b423e847c8c4de83ccbdf": {
      "model_module": "@jupyter-widgets/controls",
      "model_module_version": "2.0.0",
      "model_name": "HTMLStyleModel",
      "state": {
       "description_width": "",
       "font_size": null,
       "text_color": null
      }
     },
     "41e8cc95309744f3bcdd793b45f90e30": {
      "model_module": "@jupyter-widgets/controls",
      "model_module_version": "2.0.0",
      "model_name": "FloatProgressModel",
      "state": {
       "bar_style": "success",
       "layout": "IPY_MODEL_c5ada96594f643f79da56ee728040a50",
       "max": 1,
       "style": "IPY_MODEL_bc51a3f05c92408bab6e89aa2c6ff659",
       "value": 1
      }
     },
     "436f8e3f6fc64d28a521c8de7628d0ed": {
      "model_module": "@jupyter-widgets/base",
      "model_module_version": "2.0.0",
      "model_name": "LayoutModel",
      "state": {}
     },
     "485f6d90e27a4d90963fc99fbfedca47": {
      "model_module": "@jupyter-widgets/controls",
      "model_module_version": "2.0.0",
      "model_name": "HTMLModel",
      "state": {
       "layout": "IPY_MODEL_6966c45b820a44babd27b5acb36e6bea",
       "style": "IPY_MODEL_a51e4e028b1f4368b1349c1d98bf0d77",
       "value": " 1584/1584 [11:35&lt;00:00,  2.27it/s]"
      }
     },
     "494143f7274343128f38a1d6f28b9819": {
      "model_module": "@jupyter-widgets/base",
      "model_module_version": "2.0.0",
      "model_name": "LayoutModel",
      "state": {}
     },
     "4947ff4c7f3b49ec913856db590bd3e7": {
      "model_module": "@jupyter-widgets/controls",
      "model_module_version": "2.0.0",
      "model_name": "HTMLModel",
      "state": {
       "layout": "IPY_MODEL_1e5cf55ae57141d08d0d6f0c684996d5",
       "style": "IPY_MODEL_091ae1e6f1fd40439fb0a7264f09de56",
       "value": "Movies from 2001:  13%"
      }
     },
     "49d860e6ca124f288f4e72524dd80724": {
      "model_module": "@jupyter-widgets/controls",
      "model_module_version": "2.0.0",
      "model_name": "FloatProgressModel",
      "state": {
       "bar_style": "danger",
       "layout": "IPY_MODEL_f9c7600a5ce64cdbb54bd11f8aadf631",
       "max": 223,
       "style": "IPY_MODEL_740156a1028b4c1ca7a1bbbd609761df",
       "value": 29
      }
     },
     "5323a684597b4e46adfd00f9c433ba4d": {
      "model_module": "@jupyter-widgets/controls",
      "model_module_version": "2.0.0",
      "model_name": "HBoxModel",
      "state": {
       "children": [
        "IPY_MODEL_c1f0d44a602a4336bce8096299f5a8cb",
        "IPY_MODEL_41e8cc95309744f3bcdd793b45f90e30",
        "IPY_MODEL_a68762bb77b94336a2f1c73fa795d351"
       ],
       "layout": "IPY_MODEL_a218ce1cc05b42f18ce5e6323f2effc7"
      }
     },
     "53fc6ac3f96d471b819c9eddb377c02b": {
      "model_module": "@jupyter-widgets/base",
      "model_module_version": "2.0.0",
      "model_name": "LayoutModel",
      "state": {}
     },
     "555a91677f124430aff0849eba1ded6e": {
      "model_module": "@jupyter-widgets/controls",
      "model_module_version": "2.0.0",
      "model_name": "HTMLModel",
      "state": {
       "layout": "IPY_MODEL_0207dee82a1a4a28b73c60c28ecaca88",
       "style": "IPY_MODEL_1907082d3b6443b48f151f3067e96219",
       "value": "YEARS: 100%"
      }
     },
     "5f391db9cc87452ea7bfaab1e076e367": {
      "model_module": "@jupyter-widgets/controls",
      "model_module_version": "2.0.0",
      "model_name": "HTMLModel",
      "state": {
       "layout": "IPY_MODEL_494143f7274343128f38a1d6f28b9819",
       "style": "IPY_MODEL_f03dcf68f3494f4d8ff53f2bd262c81c",
       "value": "Movies from 2001: 100%"
      }
     },
     "6296a70b12a44c51913eaba89d43b339": {
      "model_module": "@jupyter-widgets/controls",
      "model_module_version": "2.0.0",
      "model_name": "FloatProgressModel",
      "state": {
       "bar_style": "success",
       "layout": "IPY_MODEL_f5840aa9cb3d4814a3ac632721587bc7",
       "max": 1584,
       "style": "IPY_MODEL_257ac983c1074e9db30237f9f45dfa3d",
       "value": 1584
      }
     },
     "64cda8c396234c6a856bb9a03d6b9d4b": {
      "model_module": "@jupyter-widgets/controls",
      "model_module_version": "2.0.0",
      "model_name": "HTMLModel",
      "state": {
       "layout": "IPY_MODEL_228097406e534422982645fc6f1d9e23",
       "style": "IPY_MODEL_9a5339e15adf42e1a303821d349e4722",
       "value": " 1463/1463 [16:11&lt;00:00,  2.27it/s]"
      }
     },
     "6966c45b820a44babd27b5acb36e6bea": {
      "model_module": "@jupyter-widgets/base",
      "model_module_version": "2.0.0",
      "model_name": "LayoutModel",
      "state": {}
     },
     "6ac670fc94314580a3e53f1dc4d491e2": {
      "model_module": "@jupyter-widgets/controls",
      "model_module_version": "2.0.0",
      "model_name": "FloatProgressModel",
      "state": {
       "bar_style": "success",
       "layout": "IPY_MODEL_f1475431e0884c46bda498ec4156b18e",
       "max": 1,
       "style": "IPY_MODEL_97b2fb786d05455ea637c018d6d960c4",
       "value": 1
      }
     },
     "740156a1028b4c1ca7a1bbbd609761df": {
      "model_module": "@jupyter-widgets/controls",
      "model_module_version": "2.0.0",
      "model_name": "ProgressStyleModel",
      "state": {
       "description_width": ""
      }
     },
     "742e597cf09342f7b223d15b428fec76": {
      "model_module": "@jupyter-widgets/base",
      "model_module_version": "2.0.0",
      "model_name": "LayoutModel",
      "state": {}
     },
     "761b4c0d9c624d28b6b021cca6ee2794": {
      "model_module": "@jupyter-widgets/base",
      "model_module_version": "2.0.0",
      "model_name": "LayoutModel",
      "state": {}
     },
     "7bd891a797334f6fa69e833191fa6025": {
      "model_module": "@jupyter-widgets/controls",
      "model_module_version": "2.0.0",
      "model_name": "FloatProgressModel",
      "state": {
       "bar_style": "success",
       "layout": "IPY_MODEL_b45ff3d990614adab8d4bab8e1dd33a2",
       "max": 1463,
       "style": "IPY_MODEL_99b853f2fb724b7194f714bb65152e8c",
       "value": 1463
      }
     },
     "7ce6734f429541e28e9a7023d125f128": {
      "model_module": "@jupyter-widgets/controls",
      "model_module_version": "2.0.0",
      "model_name": "HBoxModel",
      "state": {
       "children": [
        "IPY_MODEL_869ddcd52cc44172af8a446876803e30",
        "IPY_MODEL_7bd891a797334f6fa69e833191fa6025",
        "IPY_MODEL_64cda8c396234c6a856bb9a03d6b9d4b"
       ],
       "layout": "IPY_MODEL_95c76577585d4defa59183a14fda7718"
      }
     },
     "869ddcd52cc44172af8a446876803e30": {
      "model_module": "@jupyter-widgets/controls",
      "model_module_version": "2.0.0",
      "model_name": "HTMLModel",
      "state": {
       "layout": "IPY_MODEL_742e597cf09342f7b223d15b428fec76",
       "style": "IPY_MODEL_328ad835bec4486a8acc38ad15452916",
       "value": "Movies from 2000: 100%"
      }
     },
     "881cae5527d047b68de6650d2829a82b": {
      "model_module": "@jupyter-widgets/base",
      "model_module_version": "2.0.0",
      "model_name": "LayoutModel",
      "state": {}
     },
     "95c76577585d4defa59183a14fda7718": {
      "model_module": "@jupyter-widgets/base",
      "model_module_version": "2.0.0",
      "model_name": "LayoutModel",
      "state": {}
     },
     "97b2fb786d05455ea637c018d6d960c4": {
      "model_module": "@jupyter-widgets/controls",
      "model_module_version": "2.0.0",
      "model_name": "ProgressStyleModel",
      "state": {
       "description_width": ""
      }
     },
     "98b7e43ae008427687a7674a529faf40": {
      "model_module": "@jupyter-widgets/controls",
      "model_module_version": "2.0.0",
      "model_name": "HTMLStyleModel",
      "state": {
       "description_width": "",
       "font_size": null,
       "text_color": null
      }
     },
     "99b853f2fb724b7194f714bb65152e8c": {
      "model_module": "@jupyter-widgets/controls",
      "model_module_version": "2.0.0",
      "model_name": "ProgressStyleModel",
      "state": {
       "description_width": ""
      }
     },
     "9a5339e15adf42e1a303821d349e4722": {
      "model_module": "@jupyter-widgets/controls",
      "model_module_version": "2.0.0",
      "model_name": "HTMLStyleModel",
      "state": {
       "description_width": "",
       "font_size": null,
       "text_color": null
      }
     },
     "a218ce1cc05b42f18ce5e6323f2effc7": {
      "model_module": "@jupyter-widgets/base",
      "model_module_version": "2.0.0",
      "model_name": "LayoutModel",
      "state": {}
     },
     "a51e4e028b1f4368b1349c1d98bf0d77": {
      "model_module": "@jupyter-widgets/controls",
      "model_module_version": "2.0.0",
      "model_name": "HTMLStyleModel",
      "state": {
       "description_width": "",
       "font_size": null,
       "text_color": null
      }
     },
     "a68762bb77b94336a2f1c73fa795d351": {
      "model_module": "@jupyter-widgets/controls",
      "model_module_version": "2.0.0",
      "model_name": "HTMLModel",
      "state": {
       "layout": "IPY_MODEL_348191ec683545329a4313f7a77c6146",
       "style": "IPY_MODEL_e21afb29d98f455ea1f3c2d35efd7b79",
       "value": " 1/1 [00:00&lt;00:00, 61.24it/s]"
      }
     },
     "a6d300cf83ac4b7fbe558ce9819a60ea": {
      "model_module": "@jupyter-widgets/controls",
      "model_module_version": "2.0.0",
      "model_name": "HBoxModel",
      "state": {
       "children": [
        "IPY_MODEL_5f391db9cc87452ea7bfaab1e076e367",
        "IPY_MODEL_6296a70b12a44c51913eaba89d43b339",
        "IPY_MODEL_485f6d90e27a4d90963fc99fbfedca47"
       ],
       "layout": "IPY_MODEL_c3abd2d9cd634e3d81df4b060cb3eec8"
      }
     },
     "a7948d45895d4b77bd7622d1da354c5c": {
      "model_module": "@jupyter-widgets/controls",
      "model_module_version": "2.0.0",
      "model_name": "HBoxModel",
      "state": {
       "children": [
        "IPY_MODEL_c71571714aa24a24a689fcd8647dd654",
        "IPY_MODEL_e1db97b20d354a3d85d8848cb4804edd",
        "IPY_MODEL_33a772d506264a829717bde97cf91480"
       ],
       "layout": "IPY_MODEL_c5d4a1eb8e72417a9382ae30980958f7"
      }
     },
     "b45ff3d990614adab8d4bab8e1dd33a2": {
      "model_module": "@jupyter-widgets/base",
      "model_module_version": "2.0.0",
      "model_name": "LayoutModel",
      "state": {}
     },
     "bc51a3f05c92408bab6e89aa2c6ff659": {
      "model_module": "@jupyter-widgets/controls",
      "model_module_version": "2.0.0",
      "model_name": "ProgressStyleModel",
      "state": {
       "description_width": ""
      }
     },
     "bd83f064d0a74aeca2aac76984c66a4a": {
      "model_module": "@jupyter-widgets/base",
      "model_module_version": "2.0.0",
      "model_name": "LayoutModel",
      "state": {}
     },
     "c1f0d44a602a4336bce8096299f5a8cb": {
      "model_module": "@jupyter-widgets/controls",
      "model_module_version": "2.0.0",
      "model_name": "HTMLModel",
      "state": {
       "layout": "IPY_MODEL_761b4c0d9c624d28b6b021cca6ee2794",
       "style": "IPY_MODEL_40b8a546d55b423e847c8c4de83ccbdf",
       "value": "YEARS: 100%"
      }
     },
     "c3abd2d9cd634e3d81df4b060cb3eec8": {
      "model_module": "@jupyter-widgets/base",
      "model_module_version": "2.0.0",
      "model_name": "LayoutModel",
      "state": {}
     },
     "c5ada96594f643f79da56ee728040a50": {
      "model_module": "@jupyter-widgets/base",
      "model_module_version": "2.0.0",
      "model_name": "LayoutModel",
      "state": {}
     },
     "c5d4a1eb8e72417a9382ae30980958f7": {
      "model_module": "@jupyter-widgets/base",
      "model_module_version": "2.0.0",
      "model_name": "LayoutModel",
      "state": {}
     },
     "c71571714aa24a24a689fcd8647dd654": {
      "model_module": "@jupyter-widgets/controls",
      "model_module_version": "2.0.0",
      "model_name": "HTMLModel",
      "state": {
       "layout": "IPY_MODEL_436f8e3f6fc64d28a521c8de7628d0ed",
       "style": "IPY_MODEL_18c9a882f70b41f98690e941735c9488",
       "value": "YEARS: 100%"
      }
     },
     "cdf73705d4944dbeb8beca8f5599e04f": {
      "model_module": "@jupyter-widgets/base",
      "model_module_version": "2.0.0",
      "model_name": "LayoutModel",
      "state": {}
     },
     "d2b9294ecd134a4b8383f16272ca69ad": {
      "model_module": "@jupyter-widgets/controls",
      "model_module_version": "2.0.0",
      "model_name": "HTMLModel",
      "state": {
       "layout": "IPY_MODEL_53fc6ac3f96d471b819c9eddb377c02b",
       "style": "IPY_MODEL_1f84e099a53345d0917ea229a45e5c4f",
       "value": " 1/1 [00:00&lt;00:00, 63.66it/s]"
      }
     },
     "d59cf6274b2043f9b3651a4233871af9": {
      "model_module": "@jupyter-widgets/base",
      "model_module_version": "2.0.0",
      "model_name": "LayoutModel",
      "state": {}
     },
     "d959bfd2fe5c4aafba7ae3c2516cc7d1": {
      "model_module": "@jupyter-widgets/controls",
      "model_module_version": "2.0.0",
      "model_name": "HTMLModel",
      "state": {
       "layout": "IPY_MODEL_bd83f064d0a74aeca2aac76984c66a4a",
       "style": "IPY_MODEL_98b7e43ae008427687a7674a529faf40",
       "value": " 29/223 [00:03&lt;00:27,  7.14it/s]"
      }
     },
     "db8c117c41a945c58930524057f29605": {
      "model_module": "@jupyter-widgets/controls",
      "model_module_version": "2.0.0",
      "model_name": "HBoxModel",
      "state": {
       "children": [
        "IPY_MODEL_4947ff4c7f3b49ec913856db590bd3e7",
        "IPY_MODEL_49d860e6ca124f288f4e72524dd80724",
        "IPY_MODEL_d959bfd2fe5c4aafba7ae3c2516cc7d1"
       ],
       "layout": "IPY_MODEL_881cae5527d047b68de6650d2829a82b"
      }
     },
     "e1db97b20d354a3d85d8848cb4804edd": {
      "model_module": "@jupyter-widgets/controls",
      "model_module_version": "2.0.0",
      "model_name": "FloatProgressModel",
      "state": {
       "bar_style": "success",
       "layout": "IPY_MODEL_cdf73705d4944dbeb8beca8f5599e04f",
       "max": 1,
       "style": "IPY_MODEL_f16df7a010154ce99a7ae3b4ddca3304",
       "value": 1
      }
     },
     "e21afb29d98f455ea1f3c2d35efd7b79": {
      "model_module": "@jupyter-widgets/controls",
      "model_module_version": "2.0.0",
      "model_name": "HTMLStyleModel",
      "state": {
       "description_width": "",
       "font_size": null,
       "text_color": null
      }
     },
     "e402e515585e4771a636d5e07d505bdf": {
      "model_module": "@jupyter-widgets/controls",
      "model_module_version": "2.0.0",
      "model_name": "HTMLStyleModel",
      "state": {
       "description_width": "",
       "font_size": null,
       "text_color": null
      }
     },
     "f03dcf68f3494f4d8ff53f2bd262c81c": {
      "model_module": "@jupyter-widgets/controls",
      "model_module_version": "2.0.0",
      "model_name": "HTMLStyleModel",
      "state": {
       "description_width": "",
       "font_size": null,
       "text_color": null
      }
     },
     "f1475431e0884c46bda498ec4156b18e": {
      "model_module": "@jupyter-widgets/base",
      "model_module_version": "2.0.0",
      "model_name": "LayoutModel",
      "state": {}
     },
     "f16df7a010154ce99a7ae3b4ddca3304": {
      "model_module": "@jupyter-widgets/controls",
      "model_module_version": "2.0.0",
      "model_name": "ProgressStyleModel",
      "state": {
       "description_width": ""
      }
     },
     "f5840aa9cb3d4814a3ac632721587bc7": {
      "model_module": "@jupyter-widgets/base",
      "model_module_version": "2.0.0",
      "model_name": "LayoutModel",
      "state": {}
     },
     "f9c7600a5ce64cdbb54bd11f8aadf631": {
      "model_module": "@jupyter-widgets/base",
      "model_module_version": "2.0.0",
      "model_name": "LayoutModel",
      "state": {}
     },
     "fd4278157e5f4741b38be32ea48d2243": {
      "model_module": "@jupyter-widgets/controls",
      "model_module_version": "2.0.0",
      "model_name": "HBoxModel",
      "state": {
       "children": [
        "IPY_MODEL_555a91677f124430aff0849eba1ded6e",
        "IPY_MODEL_6ac670fc94314580a3e53f1dc4d491e2",
        "IPY_MODEL_d2b9294ecd134a4b8383f16272ca69ad"
       ],
       "layout": "IPY_MODEL_3e4a9af8b0664a398bc2747e0956e383"
      }
     }
    },
    "version_major": 2,
    "version_minor": 0
   }
  }
 },
 "nbformat": 4,
 "nbformat_minor": 5
}
