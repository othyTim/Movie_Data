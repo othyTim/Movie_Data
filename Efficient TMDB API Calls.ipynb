{
 "cells": [
  {
   "cell_type": "code",
   "execution_count": 16,
   "id": "076740a3-d02b-4d56-b164-c98477dff8f7",
   "metadata": {},
   "outputs": [
    {
     "data": {
      "text/plain": [
       "['title_basics.csv.gz', 'title_akas.csv.gz', 'title_ratings.csv.gz']"
      ]
     },
     "execution_count": 16,
     "metadata": {},
     "output_type": "execute_result"
    }
   ],
   "source": [
    "from tqdm.notebook import tqdm_notebook\n",
    "import pandas as pd\n",
    "import os, time,json\n",
    "import tmdbsimple as tmdb \n",
    "import os, json, math, time\n",
    "FOLDER = \"Data/\"\n",
    "os.makedirs(FOLDER, exist_ok=True)\n",
    "os.listdir(FOLDER)"
   ]
  },
  {
   "cell_type": "markdown",
   "id": "21e80335-6ba1-484e-b9b8-420a899e8e76",
   "metadata": {},
   "source": [
    "Define Your Functions\n",
    "You should ultimately put any custom functions at the top of your notebook. You can first write them where you first use them in your project, but once you have the functions completed and tested, you should move their definitions to the top of your notebook after you import your packages.\n",
    "\n",
    "You will need your function to get the movie rating from the prior lesson, as well as the new function below: write_json. This is a modified version of a function from https://www.geeksforgeeks.org/append-to-json-file-using-python/. Notice that the original source link is included in the function's docstring to give proper credit to the original authors."
   ]
  },
  {
   "cell_type": "code",
   "execution_count": 2,
   "id": "a31fbca1-63b2-48e2-8614-5207407ba517",
   "metadata": {},
   "outputs": [],
   "source": [
    "def write_json(new_data, filename): \n",
    "    \"\"\"Appends a list of records (new_data) to a json file (filename). \n",
    "    Adapted from: https://www.geeksforgeeks.org/append-to-json-file-using-python/\"\"\"  \n",
    "    \n",
    "    with open(filename,'r+') as file:\n",
    "        # First we load existing data into a dict.\n",
    "        file_data = json.load(file)\n",
    "        ## Choose extend or append\n",
    "        if (type(new_data) == list) & (type(file_data) == list):\n",
    "            file_data.extend(new_data)\n",
    "        else:\n",
    "             file_data.append(new_data)\n",
    "        # Sets file's current position at offset.\n",
    "        file.seek(0)\n",
    "        # convert back to json.\n",
    "        json.dump(file_data, file)"
   ]
  },
  {
   "cell_type": "markdown",
   "id": "5dfa1827-5414-4e71-958d-c17ab4d947e4",
   "metadata": {},
   "source": [
    "Load in the Title Basics data\n",
    "You need to read in the filtered dataframe you created based on the specification of Project 3 Part 1.\n",
    "\n",
    "You will be filtering out the movies for each year inside the loop, so we will need this loaded and ready to be filtered."
   ]
  },
  {
   "cell_type": "code",
   "execution_count": 5,
   "id": "1c4cdfc8-b0db-448f-998b-fc51ae84621d",
   "metadata": {},
   "outputs": [],
   "source": [
    "# Load in the dataframe from project part 1 as basics:\n",
    "basics = pd.read_csv(\"Data/title_basics.csv.gz\")"
   ]
  },
  {
   "cell_type": "code",
   "execution_count": 6,
   "id": "76ada237-3d8e-4538-bfea-57f9d26d6249",
   "metadata": {},
   "outputs": [
    {
     "data": {
      "text/html": [
       "<div>\n",
       "<style scoped>\n",
       "    .dataframe tbody tr th:only-of-type {\n",
       "        vertical-align: middle;\n",
       "    }\n",
       "\n",
       "    .dataframe tbody tr th {\n",
       "        vertical-align: top;\n",
       "    }\n",
       "\n",
       "    .dataframe thead th {\n",
       "        text-align: right;\n",
       "    }\n",
       "</style>\n",
       "<table border=\"1\" class=\"dataframe\">\n",
       "  <thead>\n",
       "    <tr style=\"text-align: right;\">\n",
       "      <th></th>\n",
       "      <th>tconst</th>\n",
       "      <th>titleType</th>\n",
       "      <th>primaryTitle</th>\n",
       "      <th>originalTitle</th>\n",
       "      <th>isAdult</th>\n",
       "      <th>startYear</th>\n",
       "      <th>endYear</th>\n",
       "      <th>runtimeMinutes</th>\n",
       "      <th>genres</th>\n",
       "    </tr>\n",
       "  </thead>\n",
       "  <tbody>\n",
       "    <tr>\n",
       "      <th>0</th>\n",
       "      <td>tt0035423</td>\n",
       "      <td>movie</td>\n",
       "      <td>Kate &amp; Leopold</td>\n",
       "      <td>Kate &amp; Leopold</td>\n",
       "      <td>0</td>\n",
       "      <td>2001</td>\n",
       "      <td>NaN</td>\n",
       "      <td>118</td>\n",
       "      <td>Comedy,Fantasy,Romance</td>\n",
       "    </tr>\n",
       "    <tr>\n",
       "      <th>1</th>\n",
       "      <td>tt0062336</td>\n",
       "      <td>movie</td>\n",
       "      <td>The Tango of the Widower and Its Distorting Mi...</td>\n",
       "      <td>El tango del viudo y su espejo deformante</td>\n",
       "      <td>0</td>\n",
       "      <td>2020</td>\n",
       "      <td>NaN</td>\n",
       "      <td>70</td>\n",
       "      <td>Drama</td>\n",
       "    </tr>\n",
       "    <tr>\n",
       "      <th>2</th>\n",
       "      <td>tt0068865</td>\n",
       "      <td>movie</td>\n",
       "      <td>Lives of Performers</td>\n",
       "      <td>Lives of Performers</td>\n",
       "      <td>0</td>\n",
       "      <td>2016</td>\n",
       "      <td>NaN</td>\n",
       "      <td>90</td>\n",
       "      <td>Drama</td>\n",
       "    </tr>\n",
       "    <tr>\n",
       "      <th>3</th>\n",
       "      <td>tt0069049</td>\n",
       "      <td>movie</td>\n",
       "      <td>The Other Side of the Wind</td>\n",
       "      <td>The Other Side of the Wind</td>\n",
       "      <td>0</td>\n",
       "      <td>2018</td>\n",
       "      <td>NaN</td>\n",
       "      <td>122</td>\n",
       "      <td>Drama</td>\n",
       "    </tr>\n",
       "    <tr>\n",
       "      <th>4</th>\n",
       "      <td>tt0082328</td>\n",
       "      <td>movie</td>\n",
       "      <td>Embodiment of Evil</td>\n",
       "      <td>Encarnação do Demônio</td>\n",
       "      <td>0</td>\n",
       "      <td>2008</td>\n",
       "      <td>NaN</td>\n",
       "      <td>94</td>\n",
       "      <td>Horror</td>\n",
       "    </tr>\n",
       "  </tbody>\n",
       "</table>\n",
       "</div>"
      ],
      "text/plain": [
       "      tconst titleType                                       primaryTitle  \\\n",
       "0  tt0035423     movie                                     Kate & Leopold   \n",
       "1  tt0062336     movie  The Tango of the Widower and Its Distorting Mi...   \n",
       "2  tt0068865     movie                                Lives of Performers   \n",
       "3  tt0069049     movie                         The Other Side of the Wind   \n",
       "4  tt0082328     movie                                 Embodiment of Evil   \n",
       "\n",
       "                               originalTitle  isAdult  startYear  endYear  \\\n",
       "0                             Kate & Leopold        0       2001      NaN   \n",
       "1  El tango del viudo y su espejo deformante        0       2020      NaN   \n",
       "2                        Lives of Performers        0       2016      NaN   \n",
       "3                 The Other Side of the Wind        0       2018      NaN   \n",
       "4                      Encarnação do Demônio        0       2008      NaN   \n",
       "\n",
       "   runtimeMinutes                  genres  \n",
       "0             118  Comedy,Fantasy,Romance  \n",
       "1              70                   Drama  \n",
       "2              90                   Drama  \n",
       "3             122                   Drama  \n",
       "4              94                  Horror  "
      ]
     },
     "execution_count": 6,
     "metadata": {},
     "output_type": "execute_result"
    }
   ],
   "source": [
    "basics.head()"
   ]
  },
  {
   "cell_type": "markdown",
   "id": "1297280b-70cd-495f-9b87-d14fa8df86d8",
   "metadata": {},
   "source": [
    "Create Required Lists for the Loop\n",
    "Define a list of the Years to Extract from the API\n",
    "\n",
    "We have data from 2000 - 2020 available. If we just want results for the first two years, we will create a YEARS_TO_GET list that only contains those 2 years (for now). This will control our outer loop."
   ]
  },
  {
   "cell_type": "code",
   "execution_count": 7,
   "id": "442af37a-6714-4590-a394-1be8c53546ad",
   "metadata": {},
   "outputs": [],
   "source": [
    "YEARS_TO_GET = [2000,2001]"
   ]
  },
  {
   "cell_type": "markdown",
   "id": "bafe5cf5-8eaa-408b-b1fe-9a4ee9eaaa33",
   "metadata": {},
   "source": [
    "Define an errors list\n",
    "\n",
    "We will want to be able to save the ids and error messages for any movie that causes an error. To do so, we will want to create an empty errors list before our loops that we can append to later."
   ]
  },
  {
   "cell_type": "code",
   "execution_count": 8,
   "id": "7a78c7c7-d47e-41c3-8276-722e0293ea46",
   "metadata": {},
   "outputs": [],
   "source": [
    "errors = [ ]"
   ]
  },
  {
   "cell_type": "markdown",
   "id": "13aaf480-0f5c-4113-9d9d-25ad215127b9",
   "metadata": {},
   "source": [
    "Start OUTER loop\n",
    "\n",
    "Set up Progress Bar\n",
    "We want to keep track of our progress and ensure our calls are working. The progress bar works within the for statement of the for loop. Note that this will iterate through each year that is defined in the YEARS_TO_GET variable.\n",
    "\n"
   ]
  },
  {
   "cell_type": "code",
   "execution_count": 17,
   "id": "afcc031a-081e-4ee5-ac62-d2a82d74bfb9",
   "metadata": {},
   "outputs": [
    {
     "data": {
      "application/vnd.jupyter.widget-view+json": {
       "model_id": "2c1ead5ebb744dcb88b0d7ae401b417f",
       "version_major": 2,
       "version_minor": 0
      },
      "text/plain": [
       "YEARS:   0%|          | 0/2 [00:00<?, ?it/s]"
      ]
     },
     "metadata": {},
     "output_type": "display_data"
    }
   ],
   "source": [
    "# Start of OUTER loop\n",
    "for YEAR in tqdm_notebook(YEARS_TO_GET, desc='YEARS', position=0):\n",
    "    time.sleep(.2) "
   ]
  },
  {
   "cell_type": "markdown",
   "id": "295c9e49-d595-46cc-bb55-17c59ea06e66",
   "metadata": {},
   "source": [
    "Ultimately we will be creating a loop, but let's explore each piece of the code:\n",
    "\n",
    "Select a JSON_FILE filename to save the results in progress.\n",
    "Check if the file exists.\n",
    "if no:\n",
    "Create the empty JSON file with with open that just contains the key \"imdb_id\"\n",
    "if yes:\n",
    "Do nothing.\n",
    "First, define the file path and names: We are going to have multiple files since we are creating a separate file for each year. The code below will identify the folder in the FOLDER we just defined above and will name the file based on the current year."
   ]
  },
  {
   "cell_type": "code",
   "execution_count": 21,
   "id": "2c8c2e81-13f1-4a14-8fec-021e70bc876b",
   "metadata": {},
   "outputs": [],
   "source": [
    "#Defining the JSON file to store results for year\n",
    "JSON_FILE = f'{\"Data\"}tmdb_api_results_{2023}.json'"
   ]
  },
  {
   "cell_type": "code",
   "execution_count": 22,
   "id": "1ca4a67c-a3d0-4ce8-b151-a3d2ef46ffb6",
   "metadata": {},
   "outputs": [],
   "source": [
    "# Check if file exists\n",
    "file_exists = os.path.isfile(JSON_FILE)"
   ]
  },
  {
   "cell_type": "code",
   "execution_count": 23,
   "id": "99dcfe48-13e7-407e-8bbb-0f7d40e334bb",
   "metadata": {},
   "outputs": [
    {
     "data": {
      "text/plain": [
       "False"
      ]
     },
     "execution_count": 23,
     "metadata": {},
     "output_type": "execute_result"
    }
   ],
   "source": [
    "file_exists"
   ]
  },
  {
   "cell_type": "code",
   "execution_count": 24,
   "id": "6819e67a-cd22-4408-9598-3ae2d3f68a5c",
   "metadata": {},
   "outputs": [],
   "source": [
    "# If it does not exist: create it\n",
    "if file_exists == False:\n",
    "# save an empty dict with just \"imdb_id\" to the new json file.\n",
    "    with open(JSON_FILE,'w') as f:\n",
    "        json.dump([{'imdb_id':0}],f)"
   ]
  },
  {
   "cell_type": "code",
   "execution_count": 26,
   "id": "f84326d1-2783-4925-ad14-4f537255fbac",
   "metadata": {},
   "outputs": [
    {
     "data": {
      "text/plain": [
       "False"
      ]
     },
     "execution_count": 26,
     "metadata": {},
     "output_type": "execute_result"
    }
   ],
   "source": [
    "file_exists"
   ]
  },
  {
   "cell_type": "markdown",
   "id": "b7b74258-269b-46d1-9a09-8b3207ddaa61",
   "metadata": {},
   "source": [
    "Define/filter the IDs to call\n",
    "We are going to break up our title_basics data by year, so we will define a new dataframe for each year. Notice that which YEAR will depend on what we define YEAR as. Leaving YEAR a variable allows the code to be easier to read and reproduce."
   ]
  },
  {
   "cell_type": "code",
   "execution_count": 27,
   "id": "ee3dc0d0-5962-420f-b05e-2b3657c5304e",
   "metadata": {},
   "outputs": [],
   "source": [
    "#Saving new year as the current df\n",
    "df = basics.loc[ basics['startYear']==YEAR].copy()\n",
    "# saving movie ids to list\n",
    "movie_ids = df['tconst'].copy()"
   ]
  },
  {
   "cell_type": "markdown",
   "id": "3e2a3766-0206-42e1-b539-180a004916b7",
   "metadata": {},
   "source": [
    "Check for and remove any previously downloaded Movie id's\n",
    "You may remember from our lesson on efficient API calls that we are going to build in some safeguards when looping through multiple calls.\n",
    "\n",
    "Load in any existing API results with pd.read_json\n",
    "Check to see if any of the movie_ids to get are already in the JSON file.\n",
    "Filter out only movies that are missing from the JSON file to use in the loop\n",
    "The code loads any existing information from the JSON file into a dataframe called the \"previous_df.\" This will start empty, but as you iterate through the loop, it will continue to have more and more information."
   ]
  },
  {
   "cell_type": "code",
   "execution_count": 28,
   "id": "2c00680b-8418-4007-a899-ab7b4c520af9",
   "metadata": {},
   "outputs": [],
   "source": [
    "# Load existing data from json into a dataframe called \"previous_df\"\n",
    "previous_df = pd.read_json(JSON_FILE)"
   ]
  },
  {
   "cell_type": "markdown",
   "id": "8e36cd44-a894-4646-b553-0f73935d66d1",
   "metadata": {},
   "source": [
    "Check for and filter out movie IDs that already exist\n",
    "\n",
    "The next line of code will prevent you from wasting API calls on data you already have. Note that it is defining the ids you are calling in such a way that it excludes any ids that are already present in the previous_df. You may recall that this will also allow you to \"pick up where you left off\" if your API call gets interrupted."
   ]
  },
  {
   "cell_type": "code",
   "execution_count": 29,
   "id": "86edb0fc-bf59-43e2-879b-ee0f70a4e28d",
   "metadata": {},
   "outputs": [],
   "source": [
    "# filter out any ids that are already in the JSON_FILE\n",
    "movie_ids_to_get = movie_ids[~movie_ids.isin(previous_df['imdb_id'])]"
   ]
  },
  {
   "cell_type": "markdown",
   "id": "84bd998e-0ab1-4fa7-94a4-8d50c18f1ccd",
   "metadata": {},
   "source": [
    "Now we have defined the \"movie_ids_to_get\". It includes the ids from our dataframe in the year we are seeking, and it excludes any that we have already made calls for.\n",
    "\n",
    "We will use this list for our inner loop of API calls."
   ]
  },
  {
   "cell_type": "markdown",
   "id": "6b89f44f-ad59-4ec5-aa08-7aa4a8d3634a",
   "metadata": {},
   "source": [
    "Start INNER Loop\n",
    "Now that we have the filtered list of movie_ids_to_get for the current year, we will now create an inner loop to iterate through the movie_ids_to_get, and for each ID, we will: retrieve the movie info from the TMDB API, append the movie_info dictionary to our JSON_FILE, wait 20 ms to avoid overwhelming the API.\n",
    "\n",
    "Iterate through the list of Movie IDs and make the calls\n",
    "The code below relies on the function you wrote in the previous lesson that made API calls and added the certification to the .info results. Here this function is named \"get_movie_with_rating\". Make sure you have the function from the earlier lesson in the code file before you plan to call on it! This loop also uses the function above (write_json) to extend/append the results to the .json file. Make sure both functions are defined in your code file before you try to call them!\n",
    "\n",
    "Since some movies exist in IMDB's title basics dataset (our DataFrame) that do not exist within the database for TMDB's API, we will get an error whenever we attempt to retrieve a movie id that TMDB does not have in its database.\n",
    "\n",
    "To get around this, we will use a try and except statement around our inner loop. We will TRY to run the inner loop to retrieve and save the data for the current movie_id, but if we get an error, we will save the movie_id and error message in our errors list"
   ]
  },
  {
   "cell_type": "code",
   "execution_count": 30,
   "id": "2efb22e7-b9fd-4cf7-80e9-d525e7a249e3",
   "metadata": {},
   "outputs": [
    {
     "data": {
      "application/vnd.jupyter.widget-view+json": {
       "model_id": "e4958615beca49f3a5439ff7b0948155",
       "version_major": 2,
       "version_minor": 0
      },
      "text/plain": [
       "Movies from 2001:   0%|          | 0/1584 [00:00<?, ?it/s]"
      ]
     },
     "metadata": {},
     "output_type": "display_data"
    }
   ],
   "source": [
    "    #Get index and movie id from list\n",
    "    # INNER Loop\n",
    "    for movie_id in tqdm_notebook(movie_ids_to_get,\n",
    "                                  desc=f'Movies from {YEAR}',\n",
    "                                  position=1,\n",
    "                                  leave=True):\n",
    "        try:\n",
    "            # Retrieve then data for the movie id\n",
    "            temp = get_movie_with_rating(movie_id)  \n",
    "            # Append/extend results to existing file using a pre-made function\n",
    "            write_json(temp,JSON_FILE)\n",
    "            # Short 20 ms sleep to prevent overwhelming server\n",
    "            time.sleep(0.02)\n",
    "            \n",
    "        except Exception as e:\n",
    "            errors.append([movie_id, e])"
   ]
  },
  {
   "cell_type": "markdown",
   "id": "6c31d469-8b5c-4208-893f-b21c8aa3db4e",
   "metadata": {},
   "source": [
    "After the Inner Loop\n",
    "Once the inner loop through the current movie_ids_to_get has finished, we will have all of our results for that year in our JSON_FILE. We now want to save them in a smaller file format.\n",
    "Save the year's results as csv.gz file\n",
    "\n",
    "Once all of the API calls for the current year are made, you should open your .json file with pd.read_json and convert each json file to a compressed csv (\".csv.gz\") to save space. This is done after the inner loop but within the outer loop."
   ]
  },
  {
   "cell_type": "code",
   "execution_count": 31,
   "id": "7b572de1-a4ef-4995-aa8a-20b0892ea521",
   "metadata": {},
   "outputs": [],
   "source": [
    "    final_year_df = pd.read_json(JSON_FILE)\n",
    "    final_year_df.to_csv(f\"{FOLDER}final_tmdb_data_{YEAR}.csv.gz\", compression=\"gzip\", index=False)"
   ]
  },
  {
   "cell_type": "markdown",
   "id": "aef29991-c894-47c5-829b-6c8b394a15d4",
   "metadata": {},
   "source": [
    "After Your Inner & Outer Loop\n",
    "Print a message reporting back the number of movie ids that caused an error.\n"
   ]
  },
  {
   "cell_type": "code",
   "execution_count": 32,
   "id": "09ffdf74-cc3e-4ed6-966d-5b2530c5ac12",
   "metadata": {},
   "outputs": [
    {
     "name": "stdout",
     "output_type": "stream",
     "text": [
      "- Total errors: 1584\n"
     ]
    }
   ],
   "source": [
    "print(f\"- Total errors: {len(errors)}\")"
   ]
  },
  {
   "cell_type": "code",
   "execution_count": null,
   "id": "3632fc09-409b-4a03-9d41-6505ed21b162",
   "metadata": {},
   "outputs": [],
   "source": []
  }
 ],
 "metadata": {
  "kernelspec": {
   "display_name": "Python (dojo-env)",
   "language": "python",
   "name": "dojo-env"
  },
  "language_info": {
   "codemirror_mode": {
    "name": "ipython",
    "version": 3
   },
   "file_extension": ".py",
   "mimetype": "text/x-python",
   "name": "python",
   "nbconvert_exporter": "python",
   "pygments_lexer": "ipython3",
   "version": "3.10.10"
  },
  "widgets": {
   "application/vnd.jupyter.widget-state+json": {
    "state": {
     "1830fa5d1eed4a34807a650184062df4": {
      "model_module": "@jupyter-widgets/controls",
      "model_module_version": "2.0.0",
      "model_name": "ProgressStyleModel",
      "state": {
       "description_width": ""
      }
     },
     "1cefa6c0755f4a2b9ff011030ff6e33f": {
      "model_module": "@jupyter-widgets/controls",
      "model_module_version": "2.0.0",
      "model_name": "HTMLModel",
      "state": {
       "layout": "IPY_MODEL_f513dd33024a4fdc8ff51a282a9a7a1a",
       "style": "IPY_MODEL_b82993e368d84949ad382e83023c33de",
       "value": " 1584/1584 [00:00&lt;00:00, 74787.84it/s]"
      }
     },
     "1f0f3b2c3553450e9843dd401feff4af": {
      "model_module": "@jupyter-widgets/controls",
      "model_module_version": "2.0.0",
      "model_name": "HTMLStyleModel",
      "state": {
       "description_width": "",
       "font_size": null,
       "text_color": null
      }
     },
     "2c1ead5ebb744dcb88b0d7ae401b417f": {
      "model_module": "@jupyter-widgets/controls",
      "model_module_version": "2.0.0",
      "model_name": "HBoxModel",
      "state": {
       "children": [
        "IPY_MODEL_a6ccde9094bb4206bfce527f7cf2634a",
        "IPY_MODEL_f61a6f6c34de4ad28d744e844228f24f",
        "IPY_MODEL_d0a3dca67f2246dd95ab3e267aaec346"
       ],
       "layout": "IPY_MODEL_af748fa87ece47c7bccbe69d85c5bf1d"
      }
     },
     "34eee344fa1a42df847eb78ede8bd1f2": {
      "model_module": "@jupyter-widgets/base",
      "model_module_version": "2.0.0",
      "model_name": "LayoutModel",
      "state": {}
     },
     "3e8f091f23264d11b81a0e8170e88c0a": {
      "model_module": "@jupyter-widgets/base",
      "model_module_version": "2.0.0",
      "model_name": "LayoutModel",
      "state": {}
     },
     "4bdc1dc5f6dc469e88a73e2642eeeebe": {
      "model_module": "@jupyter-widgets/controls",
      "model_module_version": "2.0.0",
      "model_name": "HTMLStyleModel",
      "state": {
       "description_width": "",
       "font_size": null,
       "text_color": null
      }
     },
     "575547718148487b92dc3b1ff9a823f3": {
      "model_module": "@jupyter-widgets/base",
      "model_module_version": "2.0.0",
      "model_name": "LayoutModel",
      "state": {}
     },
     "5e49d8c234d643dfa103efb3fc1e3d98": {
      "model_module": "@jupyter-widgets/base",
      "model_module_version": "2.0.0",
      "model_name": "LayoutModel",
      "state": {}
     },
     "6a83e58deb6d4d49af3a747268f7f183": {
      "model_module": "@jupyter-widgets/controls",
      "model_module_version": "2.0.0",
      "model_name": "ProgressStyleModel",
      "state": {
       "description_width": ""
      }
     },
     "991f408bd4f84f11bd78c11785d04123": {
      "model_module": "@jupyter-widgets/base",
      "model_module_version": "2.0.0",
      "model_name": "LayoutModel",
      "state": {}
     },
     "a6ccde9094bb4206bfce527f7cf2634a": {
      "model_module": "@jupyter-widgets/controls",
      "model_module_version": "2.0.0",
      "model_name": "HTMLModel",
      "state": {
       "layout": "IPY_MODEL_991f408bd4f84f11bd78c11785d04123",
       "style": "IPY_MODEL_4bdc1dc5f6dc469e88a73e2642eeeebe",
       "value": "YEARS: 100%"
      }
     },
     "ab1ecdcf36f54f06a3e03bf27d450b74": {
      "model_module": "@jupyter-widgets/controls",
      "model_module_version": "2.0.0",
      "model_name": "FloatProgressModel",
      "state": {
       "bar_style": "success",
       "layout": "IPY_MODEL_3e8f091f23264d11b81a0e8170e88c0a",
       "max": 1584,
       "style": "IPY_MODEL_1830fa5d1eed4a34807a650184062df4",
       "value": 1584
      }
     },
     "ad025e82b8874225b62a2b9396ff6146": {
      "model_module": "@jupyter-widgets/controls",
      "model_module_version": "2.0.0",
      "model_name": "HTMLStyleModel",
      "state": {
       "description_width": "",
       "font_size": null,
       "text_color": null
      }
     },
     "af748fa87ece47c7bccbe69d85c5bf1d": {
      "model_module": "@jupyter-widgets/base",
      "model_module_version": "2.0.0",
      "model_name": "LayoutModel",
      "state": {}
     },
     "b485a34ccf834b169f9ccc5dd879b1f4": {
      "model_module": "@jupyter-widgets/base",
      "model_module_version": "2.0.0",
      "model_name": "LayoutModel",
      "state": {}
     },
     "b82993e368d84949ad382e83023c33de": {
      "model_module": "@jupyter-widgets/controls",
      "model_module_version": "2.0.0",
      "model_name": "HTMLStyleModel",
      "state": {
       "description_width": "",
       "font_size": null,
       "text_color": null
      }
     },
     "d0a3dca67f2246dd95ab3e267aaec346": {
      "model_module": "@jupyter-widgets/controls",
      "model_module_version": "2.0.0",
      "model_name": "HTMLModel",
      "state": {
       "layout": "IPY_MODEL_b485a34ccf834b169f9ccc5dd879b1f4",
       "style": "IPY_MODEL_1f0f3b2c3553450e9843dd401feff4af",
       "value": " 2/2 [00:00&lt;00:00,  4.69it/s]"
      }
     },
     "dd9fcfd23c7849ee9767d05a08972c6d": {
      "model_module": "@jupyter-widgets/controls",
      "model_module_version": "2.0.0",
      "model_name": "HTMLModel",
      "state": {
       "layout": "IPY_MODEL_34eee344fa1a42df847eb78ede8bd1f2",
       "style": "IPY_MODEL_ad025e82b8874225b62a2b9396ff6146",
       "value": "Movies from 2001: 100%"
      }
     },
     "e4958615beca49f3a5439ff7b0948155": {
      "model_module": "@jupyter-widgets/controls",
      "model_module_version": "2.0.0",
      "model_name": "HBoxModel",
      "state": {
       "children": [
        "IPY_MODEL_dd9fcfd23c7849ee9767d05a08972c6d",
        "IPY_MODEL_ab1ecdcf36f54f06a3e03bf27d450b74",
        "IPY_MODEL_1cefa6c0755f4a2b9ff011030ff6e33f"
       ],
       "layout": "IPY_MODEL_575547718148487b92dc3b1ff9a823f3"
      }
     },
     "f513dd33024a4fdc8ff51a282a9a7a1a": {
      "model_module": "@jupyter-widgets/base",
      "model_module_version": "2.0.0",
      "model_name": "LayoutModel",
      "state": {}
     },
     "f61a6f6c34de4ad28d744e844228f24f": {
      "model_module": "@jupyter-widgets/controls",
      "model_module_version": "2.0.0",
      "model_name": "FloatProgressModel",
      "state": {
       "bar_style": "success",
       "layout": "IPY_MODEL_5e49d8c234d643dfa103efb3fc1e3d98",
       "max": 2,
       "style": "IPY_MODEL_6a83e58deb6d4d49af3a747268f7f183",
       "value": 2
      }
     }
    },
    "version_major": 2,
    "version_minor": 0
   }
  }
 },
 "nbformat": 4,
 "nbformat_minor": 5
}
